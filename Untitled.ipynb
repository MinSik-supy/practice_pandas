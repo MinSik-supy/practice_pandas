{
 "cells": [
  {
   "cell_type": "code",
   "execution_count": 10,
   "metadata": {
    "slideshow": {
     "slide_type": "slide"
    }
   },
   "outputs": [],
   "source": [
    "import pandas as pd\n",
    "import glob\n",
    "import sweetviz as sv\n",
    "import qgrid"
   ]
  },
  {
   "cell_type": "markdown",
   "metadata": {
    "slideshow": {
     "slide_type": "slide"
    }
   },
   "source": [
    "# 랜덤"
   ]
  },
  {
   "cell_type": "code",
   "execution_count": 2,
   "metadata": {
    "slideshow": {
     "slide_type": "slide"
    }
   },
   "outputs": [
    {
     "name": "stdout",
     "output_type": "stream",
     "text": [
      "['random1.CSV', 'random2.CSV']\n",
      "(2602, 366)\n"
     ]
    }
   ],
   "source": [
    "randoms = glob.glob('random*') # fhv_로 시작하는 파일\n",
    "print(randoms)\n",
    "\n",
    "random_df = []\n",
    "for xlsx_filename in randoms:\n",
    "    df = pd.read_csv(xlsx_filename, encoding='cp949')\n",
    "    random_df.append(df)\n",
    "\n",
    "random_df = pd.concat(random_df)\n",
    "print(random_df.shape)"
   ]
  },
  {
   "cell_type": "code",
   "execution_count": 3,
   "metadata": {
    "slideshow": {
     "slide_type": "-"
    }
   },
   "outputs": [
    {
     "name": "stdout",
     "output_type": "stream",
     "text": [
      "SQ1  SQ2_R_R\n",
      "1.0  1.0        258\n",
      "     2.0        308\n",
      "     3.0        384\n",
      "     4.0        330\n",
      "2.0  1.0        320\n",
      "     2.0        242\n",
      "     3.0        412\n",
      "     4.0        311\n",
      "Name: SEQ, dtype: int64\n",
      "(328, 366)\n",
      "SQ1  SQ2_R_R\n",
      "1.0  1.0        45\n",
      "     2.0        50\n",
      "     3.0        53\n",
      "     4.0        40\n",
      "2.0  1.0        36\n",
      "     2.0        20\n",
      "     3.0        51\n",
      "     4.0        33\n",
      "Name: SEQ, dtype: int64\n",
      "SQ1  SQ2_R_R\n",
      "1.0  1.0        17.441860\n",
      "     2.0        16.233766\n",
      "     3.0        13.802083\n",
      "     4.0        12.121212\n",
      "2.0  1.0        11.250000\n",
      "     2.0         8.264463\n",
      "     3.0        12.378641\n",
      "     4.0        10.610932\n",
      "Name: SEQ, dtype: float64\n"
     ]
    }
   ],
   "source": [
    "# 전체 데이터 개수\n",
    "random_total=random_df.groupby(['SQ1','SQ2_R_R']).count()['SEQ']\n",
    "print(random_total)\n",
    "\n",
    "# SQ4=6 아웃 개수\n",
    "print(random_df[random_df['SQ4']==6].shape)\n",
    "\n",
    "# 성 연령 별 아웃 개수\n",
    "random_out=random_df[random_df['SQ4']==6].groupby(['SQ1','SQ2_R_R']).count()['SEQ']\n",
    "print(random_out)\n",
    "\n",
    "# 아웃 비율\n",
    "random_outper=random_out/random_total*100\n",
    "print(random_outper)"
   ]
  },
  {
   "cell_type": "markdown",
   "metadata": {
    "slideshow": {
     "slide_type": "slide"
    }
   },
   "source": [
    "# 부스터"
   ]
  },
  {
   "cell_type": "code",
   "execution_count": 4,
   "metadata": {
    "slideshow": {
     "slide_type": "slide"
    }
   },
   "outputs": [
    {
     "name": "stdout",
     "output_type": "stream",
     "text": [
      "['random1.CSV', 'random2.CSV']\n",
      "(17933, 366)\n"
     ]
    }
   ],
   "source": [
    "boosters = glob.glob('booster*')\n",
    "print(randoms)\n",
    "\n",
    "booster_df = []\n",
    "for xlsx_filename in boosters:\n",
    "    df = pd.read_csv(xlsx_filename, encoding='cp949')\n",
    "    booster_df.append(df)\n",
    "\n",
    "booster_df = pd.concat(booster_df)\n",
    "print(booster_df.shape)"
   ]
  },
  {
   "cell_type": "code",
   "execution_count": 5,
   "metadata": {
    "scrolled": false,
    "slideshow": {
     "slide_type": "slide"
    }
   },
   "outputs": [
    {
     "name": "stdout",
     "output_type": "stream",
     "text": [
      "SQ1  SQ2_R_R\n",
      "1.0  1.0         602\n",
      "     2.0        2389\n",
      "     3.0        3277\n",
      "     4.0        1961\n",
      "2.0  1.0        1422\n",
      "     2.0        3333\n",
      "     3.0        3228\n",
      "     4.0        1497\n",
      "Name: SEQ, dtype: int64\n",
      "(2589, 366)\n",
      "SQ1  SQ2_R_R\n",
      "1.0  1.0        255\n",
      "     2.0        308\n",
      "     3.0        384\n",
      "     4.0        329\n",
      "2.0  1.0        318\n",
      "     2.0        241\n",
      "     3.0        408\n",
      "     4.0        309\n",
      "Name: SEQ, dtype: int64\n",
      "SQ1  SQ2_R_R\n",
      "1.0  1.0        42.358804\n",
      "     2.0        12.892424\n",
      "     3.0        11.718035\n",
      "     4.0        16.777155\n",
      "2.0  1.0        22.362869\n",
      "     2.0         7.230723\n",
      "     3.0        12.639405\n",
      "     4.0        20.641283\n",
      "Name: SEQ, dtype: float64\n"
     ]
    }
   ],
   "source": [
    "# 전체 데이터 개수\n",
    "booster_total=booster_df.groupby(['SQ1','SQ2_R_R']).count()['SEQ']\n",
    "print(booster_total)\n",
    "\n",
    "# SQ4=6 아웃 개수\n",
    "print(random_df[random_df['SQ4']!=5].shape)\n",
    "\n",
    "# 성 연령 별 아웃 개수\n",
    "booster_out=random_df[random_df['SQ4']!=5].groupby(['SQ1','SQ2_R_R']).count()['SEQ']\n",
    "print(booster_out)\n",
    "\n",
    "# 아웃 비율\n",
    "booster_outper=booster_out/booster_total*100\n",
    "print(booster_outper)"
   ]
  },
  {
   "cell_type": "code",
   "execution_count": 6,
   "metadata": {
    "scrolled": false,
    "slideshow": {
     "slide_type": "slide"
    }
   },
   "outputs": [
    {
     "data": {
      "application/vnd.jupyter.widget-view+json": {
       "model_id": "52643f906bf44ae18c91ec9f82ad4d1d",
       "version_major": 2,
       "version_minor": 0
      },
      "text/plain": [
       "HBox(children=(HTML(value=''), FloatProgress(value=0.0, layout=Layout(flex='2'), max=3.0), HTML(value='')), la…"
      ]
     },
     "metadata": {},
     "output_type": "display_data"
    },
    {
     "name": "stdout",
     "output_type": "stream",
     "text": [
      "\n",
      "Report SWEETVIZ_REPORT.html was generated! NOTEBOOK/COLAB USERS: the web browser MAY not pop up, regardless, the report IS saved in your notebook/colab files.\n"
     ]
    }
   ],
   "source": [
    "my_report = sv.analyze(booster_df[['SEQ','LOI(s)']])\n",
    "my_report.show_html()"
   ]
  },
  {
   "cell_type": "code",
   "execution_count": 11,
   "metadata": {
    "slideshow": {
     "slide_type": "slide"
    }
   },
   "outputs": [
    {
     "data": {
      "application/vnd.jupyter.widget-view+json": {
       "model_id": "f226e83150374a279114272e3000c2e5",
       "version_major": 2,
       "version_minor": 0
      },
      "text/plain": [
       "QgridWidget(grid_options={'fullWidthRows': True, 'syncColumnCellResize': True, 'forceFitColumns': True, 'defau…"
      ]
     },
     "metadata": {},
     "output_type": "display_data"
    }
   ],
   "source": [
    "qgrid_widget = qgrid.show_grid(booster_df)\n",
    "qgrid_widget"
   ]
  },
  {
   "cell_type": "code",
   "execution_count": null,
   "metadata": {},
   "outputs": [],
   "source": []
  }
 ],
 "metadata": {
  "celltoolbar": "Slideshow",
  "kernelspec": {
   "display_name": "Python 3",
   "language": "python",
   "name": "python3"
  },
  "language_info": {
   "codemirror_mode": {
    "name": "ipython",
    "version": 3
   },
   "file_extension": ".py",
   "mimetype": "text/x-python",
   "name": "python",
   "nbconvert_exporter": "python",
   "pygments_lexer": "ipython3",
   "version": "3.8.5"
  }
 },
 "nbformat": 4,
 "nbformat_minor": 4
}
