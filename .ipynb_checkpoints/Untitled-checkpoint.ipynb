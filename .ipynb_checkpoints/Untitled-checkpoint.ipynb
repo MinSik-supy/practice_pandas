{
 "cells": [
  {
   "cell_type": "code",
   "execution_count": 2,
   "metadata": {
    "slideshow": {
     "slide_type": "slide"
    }
   },
   "outputs": [],
   "source": [
    "import pandas as pd\n",
    "import glob\n",
    "import sweetviz as sv"
   ]
  },
  {
   "cell_type": "markdown",
   "metadata": {
    "slideshow": {
     "slide_type": "slide"
    }
   },
   "source": [
    "# 랜덤"
   ]
  },
  {
   "cell_type": "code",
   "execution_count": 3,
   "metadata": {
    "slideshow": {
     "slide_type": "slide"
    }
   },
   "outputs": [
    {
     "name": "stdout",
     "output_type": "stream",
     "text": [
      "['random1.CSV', 'random2.CSV']\n",
      "(2602, 366)\n"
     ]
    }
   ],
   "source": [
    "randoms = glob.glob('random*') # fhv_로 시작하는 파일\n",
    "print(randoms)\n",
    "\n",
    "random_df = []\n",
    "for xlsx_filename in randoms:\n",
    "    df = pd.read_csv(xlsx_filename, encoding='cp949')\n",
    "    random_df.append(df)\n",
    "\n",
    "random_df = pd.concat(random_df)\n",
    "print(random_df.shape)"
   ]
  },
  {
   "cell_type": "code",
   "execution_count": 4,
   "metadata": {
    "slideshow": {
     "slide_type": "slide"
    }
   },
   "outputs": [
    {
     "name": "stdout",
     "output_type": "stream",
     "text": [
      "SQ1  SQ2_R_R\n",
      "1.0  1.0        258\n",
      "     2.0        308\n",
      "     3.0        384\n",
      "     4.0        330\n",
      "2.0  1.0        320\n",
      "     2.0        242\n",
      "     3.0        412\n",
      "     4.0        311\n",
      "Name: SEQ, dtype: int64\n",
      "(328, 366)\n",
      "SQ1  SQ2_R_R\n",
      "1.0  1.0        45\n",
      "     2.0        50\n",
      "     3.0        53\n",
      "     4.0        40\n",
      "2.0  1.0        36\n",
      "     2.0        20\n",
      "     3.0        51\n",
      "     4.0        33\n",
      "Name: SEQ, dtype: int64\n",
      "SQ1  SQ2_R_R\n",
      "1.0  1.0        17.441860\n",
      "     2.0        16.233766\n",
      "     3.0        13.802083\n",
      "     4.0        12.121212\n",
      "2.0  1.0        11.250000\n",
      "     2.0         8.264463\n",
      "     3.0        12.378641\n",
      "     4.0        10.610932\n",
      "Name: SEQ, dtype: float64\n"
     ]
    }
   ],
   "source": [
    "# 전체 데이터 개수\n",
    "random_total=random_df.groupby(['SQ1','SQ2_R_R']).count()['SEQ']\n",
    "print(random_total)\n",
    "\n",
    "# SQ4=6 아웃 개수\n",
    "print(random_df[random_df['SQ4']==6].shape)\n",
    "\n",
    "# 성 연령 별 아웃 개수\n",
    "random_out=random_df[random_df['SQ4']==6].groupby(['SQ1','SQ2_R_R']).count()['SEQ']\n",
    "print(random_out)\n",
    "\n",
    "# 아웃 비율\n",
    "random_outper=random_out/random_total*100\n",
    "print(random_outper)"
   ]
  },
  {
   "cell_type": "markdown",
   "metadata": {
    "slideshow": {
     "slide_type": "slide"
    }
   },
   "source": [
    "# 부스터"
   ]
  },
  {
   "cell_type": "code",
   "execution_count": 5,
   "metadata": {
    "slideshow": {
     "slide_type": "slide"
    }
   },
   "outputs": [
    {
     "name": "stdout",
     "output_type": "stream",
     "text": [
      "['random1.CSV', 'random2.CSV']\n",
      "(17933, 366)\n"
     ]
    }
   ],
   "source": [
    "boosters = glob.glob('booster*')\n",
    "print(randoms)\n",
    "\n",
    "booster_df = []\n",
    "for xlsx_filename in boosters:\n",
    "    df = pd.read_csv(xlsx_filename, encoding='cp949')\n",
    "    booster_df.append(df)\n",
    "\n",
    "booster_df = pd.concat(booster_df)\n",
    "print(booster_df.shape)"
   ]
  },
  {
   "cell_type": "code",
   "execution_count": 6,
   "metadata": {
    "scrolled": false,
    "slideshow": {
     "slide_type": "slide"
    }
   },
   "outputs": [
    {
     "name": "stdout",
     "output_type": "stream",
     "text": [
      "SQ1  SQ2_R_R\n",
      "1.0  1.0         602\n",
      "     2.0        2389\n",
      "     3.0        3277\n",
      "     4.0        1961\n",
      "2.0  1.0        1422\n",
      "     2.0        3333\n",
      "     3.0        3228\n",
      "     4.0        1497\n",
      "Name: SEQ, dtype: int64\n",
      "(2589, 366)\n",
      "SQ1  SQ2_R_R\n",
      "1.0  1.0        255\n",
      "     2.0        308\n",
      "     3.0        384\n",
      "     4.0        329\n",
      "2.0  1.0        318\n",
      "     2.0        241\n",
      "     3.0        408\n",
      "     4.0        309\n",
      "Name: SEQ, dtype: int64\n",
      "SQ1  SQ2_R_R\n",
      "1.0  1.0        42.358804\n",
      "     2.0        12.892424\n",
      "     3.0        11.718035\n",
      "     4.0        16.777155\n",
      "2.0  1.0        22.362869\n",
      "     2.0         7.230723\n",
      "     3.0        12.639405\n",
      "     4.0        20.641283\n",
      "Name: SEQ, dtype: float64\n"
     ]
    }
   ],
   "source": [
    "# 전체 데이터 개수\n",
    "booster_total=booster_df.groupby(['SQ1','SQ2_R_R']).count()['SEQ']\n",
    "print(booster_total)\n",
    "\n",
    "# SQ4=6 아웃 개수\n",
    "print(random_df[random_df['SQ4']!=5].shape)\n",
    "\n",
    "# 성 연령 별 아웃 개수\n",
    "booster_out=random_df[random_df['SQ4']!=5].groupby(['SQ1','SQ2_R_R']).count()['SEQ']\n",
    "print(booster_out)\n",
    "\n",
    "# 아웃 비율\n",
    "booster_outper=booster_out/booster_total*100\n",
    "print(booster_outper)"
   ]
  },
  {
   "cell_type": "code",
   "execution_count": 7,
   "metadata": {
    "scrolled": false,
    "slideshow": {
     "slide_type": "slide"
    }
   },
   "outputs": [
    {
     "data": {
      "application/vnd.jupyter.widget-view+json": {
       "model_id": "443b7f48a9d249c2b25ce63615ad5378",
       "version_major": 2,
       "version_minor": 0
      },
      "text/plain": [
       "HBox(children=(HTML(value=''), FloatProgress(value=0.0, layout=Layout(flex='2'), max=3.0), HTML(value='')), la…"
      ]
     },
     "metadata": {},
     "output_type": "display_data"
    },
    {
     "name": "stdout",
     "output_type": "stream",
     "text": [
      "\n",
      "Report SWEETVIZ_REPORT.html was generated! NOTEBOOK/COLAB USERS: the web browser MAY not pop up, regardless, the report IS saved in your notebook/colab files.\n"
     ]
    }
   ],
   "source": [
    "my_report = sv.analyze(booster_df[['SEQ','LOI(s)']])\n",
    "my_report.show_html()"
   ]
  },
  {
   "cell_type": "code",
   "execution_count": 8,
   "metadata": {
    "slideshow": {
     "slide_type": "slide"
    }
   },
   "outputs": [
    {
     "name": "stdout",
     "output_type": "stream",
     "text": [
      "        SEQ  GROUP_ID                                   UID  \\\n",
      "0     17694       NaN  00609bcd-9c3a-5eb2-b351-08e81a3f3776   \n",
      "1     17747       NaN  011e23fe-ee05-53e3-a216-b6d9e5d84db6   \n",
      "2     17616       NaN  01b83906-b05b-5c76-a0cb-f03cd5eef0b4   \n",
      "3     17708       NaN  01d9422c-87a4-53f5-8168-6549d579dd2f   \n",
      "4     17822       NaN  0209cc05-0a5e-538b-ac31-34148bf6712c   \n",
      "...     ...       ...                                   ...   \n",
      "1929   1784       NaN  feec2d55-08af-50c3-a340-17a1ff630757   \n",
      "1930   1535       NaN  feefa4c1-e601-58ac-a325-aa0018021d1a   \n",
      "1931   1537       NaN  ff6b9d37-361e-5c80-86ef-ef4d11ca5c81   \n",
      "1932    234       NaN  ff7a21f2-864d-5413-b9bf-97086a4b5aab   \n",
      "1933    843       NaN  ffb93973-8767-5386-8880-270eabecb9b9   \n",
      "\n",
      "                   START_TIME                 END_TIME  LOI(s) ACCESS_KEY  \\\n",
      "0     2021-03-21 04:11:24.077  2021-03-21 04:11:46.705      22        HUB   \n",
      "1     2021-03-21 06:48:28.451  2021-03-21 06:48:50.025      21        HUB   \n",
      "2     2021-03-21 02:17:50.830  2021-03-21 02:18:32.304      41        HUB   \n",
      "3     2021-03-21 05:02:43.172  2021-03-21 05:03:27.396      44        HUB   \n",
      "4     2021-03-21 08:25:56.773  2021-03-21 08:26:15.220      18        HUB   \n",
      "...                       ...                      ...     ...        ...   \n",
      "1929  2021-03-18 19:55:24.817  2021-03-18 19:55:42.825      18        HUB   \n",
      "1930  2021-03-18 17:57:30.220  2021-03-18 17:57:56.952      26        HUB   \n",
      "1931  2021-03-18 17:59:07.331  2021-03-18 17:59:32.965      25        HUB   \n",
      "1932  2021-03-18 13:45:14.507  2021-03-18 13:45:44.361      29        HUB   \n",
      "1933  2021-03-18 15:07:07.520  2021-03-18 15:07:48.095      40        HUB   \n",
      "\n",
      "                                             USER_AGENT              IP  \\\n",
      "0     Mozilla/5.0 (Windows NT 10.0; Win64; x64) Appl...    122.37.58.78   \n",
      "1     Mozilla/5.0 (Windows NT 10.0; Win64; x64) Appl...  211.198.144.58   \n",
      "2     Mozilla/5.0 (Windows NT 10.0; Win64; x64) Appl...   220.72.55.183   \n",
      "3     Mozilla/5.0 (Windows NT 10.0; Win64; x64) Appl...  222.237.84.154   \n",
      "4     Mozilla/5.0 (Windows NT 10.0; Win64; x64) Appl...   49.171.228.42   \n",
      "...                                                 ...             ...   \n",
      "1929  Mozilla/5.0 (Windows NT 10.0; WOW64; Trident/7...  182.209.182.48   \n",
      "1930  Mozilla/5.0 (Windows NT 10.0; Win64; x64) Appl...   211.207.71.10   \n",
      "1931  Mozilla/5.0 (Windows NT 6.3; Win64; x64) Apple...   61.255.207.84   \n",
      "1932  Mozilla/5.0 (Linux; Android 11; SAMSUNG SM-N97...  175.211.22.224   \n",
      "1933  Mozilla/5.0 (Windows NT 10.0; Win64; x64) Appl...  115.90.211.227   \n",
      "\n",
      "                    DATA_TIME  ... E8_4 E8_5 E8_6  E8_7  E8_8  E8_9  E8_10  \\\n",
      "0     2021-03-21 04:11:46.705  ...  NaN  NaN  NaN   NaN   NaN   NaN    NaN   \n",
      "1     2021-03-21 06:48:50.025  ...  NaN  NaN  NaN   NaN   NaN   NaN    NaN   \n",
      "2     2021-03-21 02:18:32.304  ...  NaN  NaN  NaN   NaN   NaN   NaN    NaN   \n",
      "3     2021-03-21 05:03:27.396  ...  NaN  NaN  NaN   NaN   NaN   NaN    NaN   \n",
      "4     2021-03-21 08:26:15.220  ...  NaN  NaN  NaN   NaN   NaN   NaN    NaN   \n",
      "...                       ...  ...  ...  ...  ...   ...   ...   ...    ...   \n",
      "1929  2021-03-18 19:55:42.825  ...  NaN  NaN  NaN   NaN   NaN   NaN    NaN   \n",
      "1930  2021-03-18 17:57:56.952  ...  NaN  NaN  NaN   NaN   NaN   NaN    NaN   \n",
      "1931  2021-03-18 17:59:32.965  ...  NaN  NaN  NaN   NaN   NaN   NaN    NaN   \n",
      "1932  2021-03-18 13:45:44.361  ...  NaN  NaN  NaN   NaN   NaN   NaN    NaN   \n",
      "1933  2021-03-18 15:07:48.095  ...  NaN  NaN  NaN   NaN   NaN   NaN    NaN   \n",
      "\n",
      "      E8_11  E8_12  E8_13  \n",
      "0       NaN    NaN    NaN  \n",
      "1       NaN    NaN    NaN  \n",
      "2       NaN    NaN    NaN  \n",
      "3       NaN    NaN    NaN  \n",
      "4       NaN    NaN    NaN  \n",
      "...     ...    ...    ...  \n",
      "1929    NaN    NaN    NaN  \n",
      "1930    NaN    NaN    NaN  \n",
      "1931    NaN    NaN    NaN  \n",
      "1932    NaN    NaN    NaN  \n",
      "1933    NaN    NaN    NaN  \n",
      "\n",
      "[17933 rows x 366 columns]\n"
     ]
    }
   ],
   "source": [
    "print(booster_df)"
   ]
  }
 ],
 "metadata": {
  "celltoolbar": "Slideshow",
  "kernelspec": {
   "display_name": "Python 3",
   "language": "python",
   "name": "python3"
  },
  "language_info": {
   "codemirror_mode": {
    "name": "ipython",
    "version": 3
   },
   "file_extension": ".py",
   "mimetype": "text/x-python",
   "name": "python",
   "nbconvert_exporter": "python",
   "pygments_lexer": "ipython3",
   "version": "3.8.5"
  }
 },
 "nbformat": 4,
 "nbformat_minor": 4
}
