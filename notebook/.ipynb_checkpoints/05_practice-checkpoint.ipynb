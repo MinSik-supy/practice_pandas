{
 "cells": [
  {
   "cell_type": "markdown",
   "metadata": {},
   "source": [
    "# 깔끔한 데이터의 조건"
   ]
  },
  {
   "cell_type": "code",
   "execution_count": 1,
   "metadata": {},
   "outputs": [],
   "source": [
    "# 데이터 분석 목적에 맞는 데이터를 모아 새로운 표(Table)를 만들어야 함\n",
    "# 측정한 값은 행(row)을 구성해야 함\n",
    "# 변수는 열(column)로 구성해야 함"
   ]
  },
  {
   "cell_type": "markdown",
   "metadata": {},
   "source": [
    "# concat 메서드 사용하기"
   ]
  },
  {
   "cell_type": "code",
   "execution_count": 7,
   "metadata": {},
   "outputs": [
    {
     "name": "stdout",
     "output_type": "stream",
     "text": [
      "     A    B    C    D\n",
      "0   a0   b0   c0   d0\n",
      "1   a1   b1   c1   d1\n",
      "2   a2   b2   c2   d2\n",
      "3   a3   b3   c3   d3\n",
      "0   a4   b4   c4   d4\n",
      "1   a5   b5   c5   d5\n",
      "2   a6   b6   c6   d6\n",
      "3   a7   b7   c7   d7\n",
      "0   a8   b8   c8   d8\n",
      "1   a9   b9   c9   d9\n",
      "2  a10  b10  c10  d10\n",
      "3  a11  b11  c11  d11\n",
      "A    a3\n",
      "B    b3\n",
      "C    c3\n",
      "D    d3\n",
      "Name: 3, dtype: object\n",
      "     A    B    C    D\n",
      "3   a3   b3   c3   d3\n",
      "3   a7   b7   c7   d7\n",
      "3  a11  b11  c11  d11\n"
     ]
    }
   ],
   "source": [
    "import pandas as pd\n",
    "df1 = pd.read_csv('../data/concat_1.csv')\n",
    "df2 = pd.read_csv('../data/concat_2.csv')\n",
    "df3 = pd.read_csv('../data/concat_3.csv')\n",
    "\n",
    "# concat 메서드에 연결하려는 데이터프레임을 리스트에 담아 전달하면 연결한 데이터프레임을 반환\n",
    "# concat 메서드는 데이터프레임을 연결할 때 위에서 아래 방향으로 연결함\n",
    "row_concat = pd.concat([df1,df2,df3])\n",
    "print(row_concat)\n",
    "\n",
    "# 연결한 데이터프레임에서 행 데이터를 추출\n",
    "print(row_concat.iloc[3,])\n",
    "print(row_concat.loc[3,])"
   ]
  },
  {
   "cell_type": "markdown",
   "metadata": {},
   "source": [
    "# 데이터프레임에 시리즈 연결하기"
   ]
  },
  {
   "cell_type": "code",
   "execution_count": 8,
   "metadata": {
    "scrolled": false
   },
   "outputs": [
    {
     "name": "stdout",
     "output_type": "stream",
     "text": [
      "     A    B    C    D    0\n",
      "0   a0   b0   c0   d0  NaN\n",
      "1   a1   b1   c1   d1  NaN\n",
      "2   a2   b2   c2   d2  NaN\n",
      "3   a3   b3   c3   d3  NaN\n",
      "0  NaN  NaN  NaN  NaN   n1\n",
      "1  NaN  NaN  NaN  NaN   n2\n",
      "2  NaN  NaN  NaN  NaN   n3\n",
      "3  NaN  NaN  NaN  NaN   n4\n"
     ]
    }
   ],
   "source": [
    "# 새로운 시리즈 생성\n",
    "new_row_series = pd.Series(['n1','n2','n3','n4'])\n",
    "# concat메서드로 데이터프레임과 시리즈를 연결\n",
    "print(pd.concat([df1, new_row_series]))\n",
    "\n",
    "# 시리즈는 새로운 행이 아닌 열로 추가됨\n",
    "# 시리즈에는 열 이름이 없기 때문 -> 시리즈를 새로운 열로 간주하여 0이라는 이름의 열로 추가됨\n",
    "# NaN은 누락값"
   ]
  },
  {
   "cell_type": "markdown",
   "metadata": {},
   "source": [
    "# 행 1개로 구성된 데이터프레임 생성하여 연결하기"
   ]
  },
  {
   "cell_type": "code",
   "execution_count": 11,
   "metadata": {},
   "outputs": [
    {
     "name": "stdout",
     "output_type": "stream",
     "text": [
      "    A   B   C   D\n",
      "0  n1  n2  n3  n4\n",
      "    A   B   C   D\n",
      "0  a0  b0  c0  d0\n",
      "1  a1  b1  c1  d1\n",
      "2  a2  b2  c2  d2\n",
      "3  a3  b3  c3  d3\n",
      "0  n1  n2  n3  n4\n"
     ]
    }
   ],
   "source": [
    "# 1개의 행을 가지는 데이터 프레임 생성하여 df1에 연결\n",
    "new_row_df=pd.DataFrame([['n1','n2','n3','n4']], columns=['A','B','C','D'])\n",
    "print(new_row_df)\n",
    "\n",
    "print(pd.concat([df1, new_row_df]))"
   ]
  },
  {
   "cell_type": "code",
   "execution_count": 13,
   "metadata": {},
   "outputs": [
    {
     "name": "stdout",
     "output_type": "stream",
     "text": [
      "    A   B   C   D\n",
      "0  a0  b0  c0  d0\n",
      "1  a1  b1  c1  d1\n",
      "2  a2  b2  c2  d2\n",
      "3  a3  b3  c3  d3\n",
      "0  n1  n2  n3  n4\n",
      "    A   B   C   D\n",
      "0  a0  b0  c0  d0\n",
      "1  a1  b1  c1  d1\n",
      "2  a2  b2  c2  d2\n",
      "3  a3  b3  c3  d3\n",
      "4  n1  n2  n3  n4\n"
     ]
    }
   ],
   "source": [
    "# concat메서드는 한 번에 2개 이상의 데이터프레임을 연결할 수 있는 메서드\n",
    "# 만약 연결할 데이터프레임이 1개라면 append메서드를 사용해도 됨\n",
    "print(df1.append(new_row_df))\n",
    "\n",
    "# append 메서드와 딕셔너리를 사용해 더욱 간편하게 행을 연결할 수 있음\n",
    "# ignore_index를 True로 설정하면 데이터 연결한 다음 데이터프레임의 인덱스를 0부터 다시 지정\n",
    "data_dict = {'A': 'n1', 'B': 'n2', 'C': 'n3', 'D': 'n4'}\n",
    "print(df1.append(data_dict, ignore_index=True))"
   ]
  },
  {
   "cell_type": "markdown",
   "metadata": {},
   "source": [
    "# 다양한 방법으로 데이터 연결하기"
   ]
  },
  {
   "cell_type": "code",
   "execution_count": 20,
   "metadata": {},
   "outputs": [
    {
     "name": "stdout",
     "output_type": "stream",
     "text": [
      "      A    B    C    D    E    F    G    H\n",
      "0    a0   b0   c0   d0  NaN  NaN  NaN  NaN\n",
      "1    a1   b1   c1   d1  NaN  NaN  NaN  NaN\n",
      "2    a2   b2   c2   d2  NaN  NaN  NaN  NaN\n",
      "3    a3   b3   c3   d3  NaN  NaN  NaN  NaN\n",
      "4   NaN  NaN  NaN  NaN   a4   b4   c4   d4\n",
      "5   NaN  NaN  NaN  NaN   a5   b5   c5   d5\n",
      "6   NaN  NaN  NaN  NaN   a6   b6   c6   d6\n",
      "7   NaN  NaN  NaN  NaN   a7   b7   c7   d7\n",
      "8    a8  NaN   b8  NaN  NaN   c8  NaN   d8\n",
      "9    a9  NaN   b9  NaN  NaN   c9  NaN   d9\n",
      "10  a10  NaN  b10  NaN  NaN  c10  NaN  d10\n",
      "11  a11  NaN  b11  NaN  NaN  c11  NaN  d11\n",
      "    A   B   C   D   E   F   G   H    A    C    F    H\n",
      "0  a0  b0  c0  d0  a4  b4  c4  d4   a8   b8   c8   d8\n",
      "1  a1  b1  c1  d1  a5  b5  c5  d5   a9   b9   c9   d9\n",
      "2  a2  b2  c2  d2  a6  b6  c6  d6  a10  b10  c10  d10\n",
      "3  a3  b3  c3  d3  a7  b7  c7  d7  a11  b11  c11  d11\n",
      "    A    A\n",
      "0  a0   a8\n",
      "1  a1   a9\n",
      "2  a2  a10\n",
      "3  a3  a11\n",
      "    A   B   C   D   E   F   G   H    A    C    F    H new_col_list\n",
      "0  a0  b0  c0  d0  a4  b4  c4  d4   a8   b8   c8   d8           n1\n",
      "1  a1  b1  c1  d1  a5  b5  c5  d5   a9   b9   c9   d9           n2\n",
      "2  a2  b2  c2  d2  a6  b6  c6  d6  a10  b10  c10  d10           n3\n",
      "3  a3  b3  c3  d3  a7  b7  c7  d7  a11  b11  c11  d11           n4\n",
      "   0   1   2   3   4   5   6   7    8    9    10   11\n",
      "0  a0  b0  c0  d0  a4  b4  c4  d4   a8   b8   c8   d8\n",
      "1  a1  b1  c1  d1  a5  b5  c5  d5   a9   b9   c9   d9\n",
      "2  a2  b2  c2  d2  a6  b6  c6  d6  a10  b10  c10  d10\n",
      "3  a3  b3  c3  d3  a7  b7  c7  d7  a11  b11  c11  d11\n",
      "    A   B   C   D\n",
      "0  a0  b0  c0  d0\n",
      "1  a1  b1  c1  d1\n",
      "2  a2  b2  c2  d2\n",
      "3  a3  b3  c3  d3\n",
      "<class 'pandas.core.frame.DataFrame'>\n",
      "    E   F   G   H\n",
      "0  a4  b4  c4  d4\n",
      "1  a5  b5  c5  d5\n",
      "2  a6  b6  c6  d6\n",
      "3  a7  b7  c7  d7\n",
      "<class 'pandas.core.frame.DataFrame'>\n",
      "     A    C    F    H\n",
      "0   a8   b8   c8   d8\n",
      "1   a9   b9   c9   d9\n",
      "2  a10  b10  c10  d10\n",
      "3  a11  b11  c11  d11\n",
      "<class 'pandas.core.frame.DataFrame'>\n"
     ]
    }
   ],
   "source": [
    "# ignore_index 인자 사용\n",
    "row_concat_i = pd.concat([df1, df2, df3] , ignore_index=True)\n",
    "print(row_concat_i)\n",
    "\n",
    "# 열 방향으로 데이터 연결\n",
    "# concat 메서드의 axis인자를 1로 지정\n",
    "col_concat = pd.concat([df1, df2, df3], axis=1)\n",
    "print(col_concat)\n",
    "\n",
    "# 만약 같은 열 이름이 있는 데이터프레임에서 열 이름으로 데이터를 추출하면 \n",
    "# 해당 열 이름의 데이터를 모두 추출함\n",
    "print(col_concat['A'])\n",
    "\n",
    "# 간편하게 새로운 열을 추가할 수도 있음\n",
    "col_concat['new_col_list'] = ['n1', 'n2', 'n3', 'n4']\n",
    "print(col_concat)\n",
    "\n",
    "# 열 방향으로 데이터 연결 시 ignore_index를 True로 지정하여 열이름 중복 방지\n",
    "print(pd.concat([df1, df2, df3], axis=1, ignore_index=True))"
   ]
  },
  {
   "cell_type": "code",
   "execution_count": 28,
   "metadata": {},
   "outputs": [
    {
     "name": "stdout",
     "output_type": "stream",
     "text": [
      "    A   B   C   D\n",
      "0  a0  b0  c0  d0\n",
      "1  a1  b1  c1  d1\n",
      "2  a2  b2  c2  d2\n",
      "3  a3  b3  c3  d3\n",
      "<class 'pandas.core.frame.DataFrame'>\n",
      "    E   F   G   H\n",
      "4  a4  b4  c4  d4\n",
      "5  a5  b5  c5  d5\n",
      "6  a6  b6  c6  d6\n",
      "7  a7  b7  c7  d7\n",
      "<class 'pandas.core.frame.DataFrame'>\n",
      "     A    C    F    H\n",
      "0   a8   b8   c8   d8\n",
      "2   a9   b9   c9   d9\n",
      "6  a10  b10  c10  d10\n",
      "7  a11  b11  c11  d11\n",
      "<class 'pandas.core.frame.DataFrame'>\n",
      "     A    B    C    D    E    F    G    H\n",
      "0   a0   b0   c0   d0  NaN  NaN  NaN  NaN\n",
      "1   a1   b1   c1   d1  NaN  NaN  NaN  NaN\n",
      "2   a2   b2   c2   d2  NaN  NaN  NaN  NaN\n",
      "3   a3   b3   c3   d3  NaN  NaN  NaN  NaN\n",
      "4  NaN  NaN  NaN  NaN   a4   b4   c4   d4\n",
      "5  NaN  NaN  NaN  NaN   a5   b5   c5   d5\n",
      "6  NaN  NaN  NaN  NaN   a6   b6   c6   d6\n",
      "7  NaN  NaN  NaN  NaN   a7   b7   c7   d7\n",
      "0   a8  NaN   b8  NaN  NaN   c8  NaN   d8\n",
      "2   a9  NaN   b9  NaN  NaN   c9  NaN   d9\n",
      "6  a10  NaN  b10  NaN  NaN  c10  NaN  d10\n",
      "7  a11  NaN  b11  NaN  NaN  c11  NaN  d11\n"
     ]
    }
   ],
   "source": [
    "# 열 이름의 일부가 서로 다른 프레임을 연결\n",
    "df1.columns = ['A','B','C','D']\n",
    "df2.columns = ['E','F','G','H']\n",
    "df3.columns = ['A','C','F','H']\n",
    "print(df1)\n",
    "print(type(df1))\n",
    "print(df2)\n",
    "print(type(df2))\n",
    "print(df3)\n",
    "print(type(df3))\n",
    "\n",
    "row_concat = pd.concat([df1,df2,df3])\n",
    "print(row_concat)\n",
    "# 열 이름이 정렬되며 연결, 데이터프레임에 없는 열 이름의 데이터는 누락값으로 처리됨"
   ]
  },
  {
   "cell_type": "markdown",
   "metadata": {},
   "source": [
    "# 공통 열과 공통 인덱스만 연결하기"
   ]
  },
  {
   "cell_type": "code",
   "execution_count": 29,
   "metadata": {},
   "outputs": [
    {
     "name": "stdout",
     "output_type": "stream",
     "text": [
      "Empty DataFrame\n",
      "Columns: []\n",
      "Index: [0, 1, 2, 3, 4, 5, 6, 7, 0, 2, 6, 7]\n",
      "     A    C\n",
      "0   a0   c0\n",
      "1   a1   c1\n",
      "2   a2   c2\n",
      "3   a3   c3\n",
      "0   a8   b8\n",
      "2   a9   b9\n",
      "6  a10  b10\n",
      "7  a11  b11\n"
     ]
    }
   ],
   "source": [
    "# 누락값 없이 데이터를 연결하려면 공통 열만 골라 연결해야 함\n",
    "# join 인자를 inner로 지정해야 함\n",
    "print(pd.concat([df1,df2,df3], join='inner'))\n",
    "# df1,df2,df3의 공통 열이 없어서 Empty DataFrame이 출력됨\n",
    "\n",
    "# df1, df3의 공통 열만 골라 연결하면 연결됨\n",
    "print(pd.concat([df1,df3], ignore_index=False, join='inner'))"
   ]
  },
  {
   "cell_type": "code",
   "execution_count": 30,
   "metadata": {},
   "outputs": [
    {
     "name": "stdout",
     "output_type": "stream",
     "text": [
      "    A   B   C   D\n",
      "0  a0  b0  c0  d0\n",
      "1  a1  b1  c1  d1\n",
      "2  a2  b2  c2  d2\n",
      "3  a3  b3  c3  d3\n",
      "    E   F   G   H\n",
      "4  a4  b4  c4  d4\n",
      "5  a5  b5  c5  d5\n",
      "6  a6  b6  c6  d6\n",
      "7  a7  b7  c7  d7\n",
      "     A    C    F    H\n",
      "0   a8   b8   c8   d8\n",
      "2   a9   b9   c9   d9\n",
      "6  a10  b10  c10  d10\n",
      "7  a11  b11  c11  d11\n",
      "     A    B    C    D    E    F    G    H    A    C    F    H\n",
      "0   a0   b0   c0   d0  NaN  NaN  NaN  NaN   a8   b8   c8   d8\n",
      "1   a1   b1   c1   d1  NaN  NaN  NaN  NaN  NaN  NaN  NaN  NaN\n",
      "2   a2   b2   c2   d2  NaN  NaN  NaN  NaN   a9   b9   c9   d9\n",
      "3   a3   b3   c3   d3  NaN  NaN  NaN  NaN  NaN  NaN  NaN  NaN\n",
      "4  NaN  NaN  NaN  NaN   a4   b4   c4   d4  NaN  NaN  NaN  NaN\n",
      "5  NaN  NaN  NaN  NaN   a5   b5   c5   d5  NaN  NaN  NaN  NaN\n",
      "6  NaN  NaN  NaN  NaN   a6   b6   c6   d6  a10  b10  c10  d10\n",
      "7  NaN  NaN  NaN  NaN   a7   b7   c7   d7  a11  b11  c11  d11\n",
      "    A   B   C   D   A   C   F   H\n",
      "0  a0  b0  c0  d0  a8  b8  c8  d8\n",
      "2  a2  b2  c2  d2  a9  b9  c9  d9\n"
     ]
    }
   ],
   "source": [
    "# 데이터프레임 행 방향으로 연결\n",
    "df1.index=[0,1,2,3]\n",
    "df2.index=[4,5,6,7]\n",
    "df3.index=[0,2,6,7]\n",
    "print(df1)\n",
    "print(df2)\n",
    "print(df3)\n",
    "\n",
    "# concat 메서드로 행 방향으로 연결\n",
    "col_concat = pd.concat([df1,df2,df3], axis=1)\n",
    "print(col_concat)\n",
    "\n",
    "# df1, df3의 공통 행만 골라 연결\n",
    "print(pd.concat([df1,df3], axis=1, join='inner'))\n",
    "# 공통 행인 0과 2만 출력됨"
   ]
  },
  {
   "cell_type": "code",
   "execution_count": null,
   "metadata": {},
   "outputs": [],
   "source": [
    "# 내부 조인\n",
    "# 둘 이상의 데이터프레임에서 조건에 맞는 행을 연결\n",
    "\n",
    "# 외부 조인\n",
    "# 두 데이터프레임 중 어떤 데이터프레임을 기준으로 할 것인지에 따라 \n",
    "# 왼쪽 외부 조인(Left Outer Join)과 오른쪽 외부 조인(Right Outer Join), 완전 외부 조인(Full Outer Join)으로 나뉨\n",
    "# 왼쪽 외부 조인은 데이터프레임을 연결할때 왼쪽 데이터프레임을 모두 포함하여 연결\n",
    "# 오른쪽 외부 조인은 데이터프레임을 연결할때 오른쪽 데이터프레임을 모두 포함하여 연결\n",
    "# 완전 외부 조인은 왼쪽과 오른쪽 데이터프레임을 모두 포함하여 연결\n"
   ]
  },
  {
   "cell_type": "markdown",
   "metadata": {},
   "source": [
    "# merge 메서드 사용하기"
   ]
  },
  {
   "cell_type": "code",
   "execution_count": 34,
   "metadata": {
    "scrolled": true
   },
   "outputs": [
    {
     "name": "stdout",
     "output_type": "stream",
     "text": [
      "      ident   personal    family\n",
      "0      dyer    William      Dyer\n",
      "1        pb      Frank   Pabodie\n",
      "2      lake   Anderson      Lake\n",
      "3       roe  Valentina   Roerich\n",
      "4  danforth      Frank  Danforth\n",
      "    name    lat    long\n",
      "0   DR-1 -49.85 -128.57\n",
      "1   DR-3 -47.15 -126.72\n",
      "2  MSK-4 -48.87 -123.40\n",
      "    taken person quant  reading\n",
      "0     619   dyer   rad     9.82\n",
      "1     619   dyer   sal     0.13\n",
      "2     622   dyer   rad     7.80\n",
      "3     622   dyer   sal     0.09\n",
      "4     734     pb   rad     8.41\n",
      "5     734   lake   sal     0.05\n",
      "6     734     pb  temp   -21.50\n",
      "7     735     pb   rad     7.22\n",
      "8     735    NaN   sal     0.06\n",
      "9     735    NaN  temp   -26.00\n",
      "10    751     pb   rad     4.35\n",
      "11    751     pb  temp   -18.50\n",
      "12    751   lake   sal     0.10\n",
      "13    752   lake   rad     2.19\n",
      "14    752   lake   sal     0.09\n",
      "15    752   lake  temp   -16.00\n",
      "16    752    roe   sal    41.60\n",
      "17    837   lake   rad     1.46\n",
      "18    837   lake   sal     0.21\n",
      "19    837    roe   sal    22.50\n",
      "20    844    roe   rad    11.25\n",
      "   ident   site       dated\n",
      "0    619   DR-1  1927-02-08\n",
      "1    622   DR-1  1927-02-10\n",
      "2    734   DR-3  1939-01-07\n",
      "3    735   DR-3  1930-01-12\n",
      "4    751   DR-3  1930-02-26\n",
      "5    752   DR-3         NaN\n",
      "6    837  MSK-4  1932-01-14\n",
      "7    844   DR-1  1932-03-22\n"
     ]
    }
   ],
   "source": [
    "# 특정 위치의 날씨 정보에 필요한 데이터 집합을 모두 불러오기\n",
    "person = pd.read_csv('../data/survey_person.csv')\n",
    "site = pd.read_csv('../data/survey_site.csv')\n",
    "survey = pd.read_csv('../data/survey_survey.csv')\n",
    "visited = pd.read_csv('../data/survey_visited.csv')\n",
    "print(person)\n",
    "print(site)\n",
    "print(survey)\n",
    "print(visited)\n",
    "\n",
    "# visited 데이터프레임의 일부만 사용\n",
    "visited_subset = visited.loc[[0,2,6],]"
   ]
  },
  {
   "cell_type": "code",
   "execution_count": 38,
   "metadata": {},
   "outputs": [
    {
     "name": "stdout",
     "output_type": "stream",
     "text": [
      "    name    lat    long  ident   site       dated\n",
      "0   DR-1 -49.85 -128.57    619   DR-1  1927-02-08\n",
      "1   DR-3 -47.15 -126.72    734   DR-3  1939-01-07\n",
      "2  MSK-4 -48.87 -123.40    837  MSK-4  1932-01-14\n"
     ]
    }
   ],
   "source": [
    "# merge 메서드는 기본적으로 내부 조인을 실행하며 \n",
    "# 메서드를 사용한 데이터프레임(site)을 왼쪽으로 지정하고 \n",
    "# 첫 번째 인자값으로 지정한 데이터프레임(visitied_subset)을 오른쪽으로 지정함\n",
    "# left_on, right_on 인자는 값이 일치해야 할 왼쪽과 오른쪽 데이터프레임의 열을 지정함\n",
    "# 왼쪽 데이터프레임(site)의 열(name)과 오른쪽 데이터프레임(visited)의 열(site)의 값이 일치하면 왼쪽 데이터프레임을 기준으로 연결\n",
    "o2o_merge = site.merge(visited_subset, left_on='name', right_on='site')\n",
    "print(o2o_merge)\n"
   ]
  },
  {
   "cell_type": "code",
   "execution_count": 39,
   "metadata": {},
   "outputs": [
    {
     "name": "stdout",
     "output_type": "stream",
     "text": [
      "    name    lat    long  ident   site       dated\n",
      "0   DR-1 -49.85 -128.57    619   DR-1  1927-02-08\n",
      "1   DR-1 -49.85 -128.57    622   DR-1  1927-02-10\n",
      "2   DR-1 -49.85 -128.57    844   DR-1  1932-03-22\n",
      "3   DR-3 -47.15 -126.72    734   DR-3  1939-01-07\n",
      "4   DR-3 -47.15 -126.72    735   DR-3  1930-01-12\n",
      "5   DR-3 -47.15 -126.72    751   DR-3  1930-02-26\n",
      "6   DR-3 -47.15 -126.72    752   DR-3         NaN\n",
      "7  MSK-4 -48.87 -123.40    837  MSK-4  1932-01-14\n"
     ]
    }
   ],
   "source": [
    "# site, visited 데이터프레임을 이용하여 데이터를 연결\n",
    "m2o_merge = site.merge(visited, left_on='name', right_on='site')\n",
    "print(m2o_merge)"
   ]
  },
  {
   "cell_type": "code",
   "execution_count": 40,
   "metadata": {},
   "outputs": [
    {
     "name": "stdout",
     "output_type": "stream",
     "text": [
      "   ident   personal   family  taken person quant  reading\n",
      "0   dyer    William     Dyer    619   dyer   rad     9.82\n",
      "1   dyer    William     Dyer    619   dyer   sal     0.13\n",
      "2   dyer    William     Dyer    622   dyer   rad     7.80\n",
      "3   dyer    William     Dyer    622   dyer   sal     0.09\n",
      "4     pb      Frank  Pabodie    734     pb   rad     8.41\n",
      "5     pb      Frank  Pabodie    734     pb  temp   -21.50\n",
      "6     pb      Frank  Pabodie    735     pb   rad     7.22\n",
      "7     pb      Frank  Pabodie    751     pb   rad     4.35\n",
      "8     pb      Frank  Pabodie    751     pb  temp   -18.50\n",
      "9   lake   Anderson     Lake    734   lake   sal     0.05\n",
      "10  lake   Anderson     Lake    751   lake   sal     0.10\n",
      "11  lake   Anderson     Lake    752   lake   rad     2.19\n",
      "12  lake   Anderson     Lake    752   lake   sal     0.09\n",
      "13  lake   Anderson     Lake    752   lake  temp   -16.00\n",
      "14  lake   Anderson     Lake    837   lake   rad     1.46\n",
      "15  lake   Anderson     Lake    837   lake   sal     0.21\n",
      "16   roe  Valentina  Roerich    752    roe   sal    41.60\n",
      "17   roe  Valentina  Roerich    837    roe   sal    22.50\n",
      "18   roe  Valentina  Roerich    844    roe   rad    11.25\n",
      "    ident   site       dated  taken person quant  reading\n",
      "0     619   DR-1  1927-02-08    619   dyer   rad     9.82\n",
      "1     619   DR-1  1927-02-08    619   dyer   sal     0.13\n",
      "2     622   DR-1  1927-02-10    622   dyer   rad     7.80\n",
      "3     622   DR-1  1927-02-10    622   dyer   sal     0.09\n",
      "4     734   DR-3  1939-01-07    734     pb   rad     8.41\n",
      "5     734   DR-3  1939-01-07    734   lake   sal     0.05\n",
      "6     734   DR-3  1939-01-07    734     pb  temp   -21.50\n",
      "7     735   DR-3  1930-01-12    735     pb   rad     7.22\n",
      "8     735   DR-3  1930-01-12    735    NaN   sal     0.06\n",
      "9     735   DR-3  1930-01-12    735    NaN  temp   -26.00\n",
      "10    751   DR-3  1930-02-26    751     pb   rad     4.35\n",
      "11    751   DR-3  1930-02-26    751     pb  temp   -18.50\n",
      "12    751   DR-3  1930-02-26    751   lake   sal     0.10\n",
      "13    752   DR-3         NaN    752   lake   rad     2.19\n",
      "14    752   DR-3         NaN    752   lake   sal     0.09\n",
      "15    752   DR-3         NaN    752   lake  temp   -16.00\n",
      "16    752   DR-3         NaN    752    roe   sal    41.60\n",
      "17    837  MSK-4  1932-01-14    837   lake   rad     1.46\n",
      "18    837  MSK-4  1932-01-14    837   lake   sal     0.21\n",
      "19    837  MSK-4  1932-01-14    837    roe   sal    22.50\n",
      "20    844   DR-1  1932-03-22    844    roe   rad    11.25\n"
     ]
    }
   ],
   "source": [
    "# person, survey 데이터프레임과 visited, survey 데이터프레임을 merge 메서드로 연결\n",
    "ps = person.merge(survey, left_on='ident', right_on='person')\n",
    "vs = visited.merge(survey, left_on='ident', right_on='taken')\n",
    "\n",
    "print(ps)\n",
    "print(vs)"
   ]
  },
  {
   "cell_type": "code",
   "execution_count": 42,
   "metadata": {},
   "outputs": [
    {
     "name": "stdout",
     "output_type": "stream",
     "text": [
      "   ident_x   personal   family  taken_x person_x quant  reading  ident_y  \\\n",
      "0     dyer    William     Dyer      619     dyer   rad     9.82      619   \n",
      "1     dyer    William     Dyer      619     dyer   sal     0.13      619   \n",
      "2     dyer    William     Dyer      622     dyer   rad     7.80      622   \n",
      "3     dyer    William     Dyer      622     dyer   sal     0.09      622   \n",
      "4       pb      Frank  Pabodie      734       pb   rad     8.41      734   \n",
      "5       pb      Frank  Pabodie      734       pb  temp   -21.50      734   \n",
      "6       pb      Frank  Pabodie      735       pb   rad     7.22      735   \n",
      "7       pb      Frank  Pabodie      751       pb   rad     4.35      751   \n",
      "8       pb      Frank  Pabodie      751       pb  temp   -18.50      751   \n",
      "9     lake   Anderson     Lake      734     lake   sal     0.05      734   \n",
      "10    lake   Anderson     Lake      751     lake   sal     0.10      751   \n",
      "11    lake   Anderson     Lake      752     lake   rad     2.19      752   \n",
      "12    lake   Anderson     Lake      752     lake   sal     0.09      752   \n",
      "13    lake   Anderson     Lake      752     lake  temp   -16.00      752   \n",
      "14    lake   Anderson     Lake      837     lake   rad     1.46      837   \n",
      "15    lake   Anderson     Lake      837     lake   sal     0.21      837   \n",
      "16     roe  Valentina  Roerich      752      roe   sal    41.60      752   \n",
      "17     roe  Valentina  Roerich      837      roe   sal    22.50      837   \n",
      "18     roe  Valentina  Roerich      844      roe   rad    11.25      844   \n",
      "\n",
      "     site       dated  taken_y person_y  \n",
      "0    DR-1  1927-02-08      619     dyer  \n",
      "1    DR-1  1927-02-08      619     dyer  \n",
      "2    DR-1  1927-02-10      622     dyer  \n",
      "3    DR-1  1927-02-10      622     dyer  \n",
      "4    DR-3  1939-01-07      734       pb  \n",
      "5    DR-3  1939-01-07      734       pb  \n",
      "6    DR-3  1930-01-12      735       pb  \n",
      "7    DR-3  1930-02-26      751       pb  \n",
      "8    DR-3  1930-02-26      751       pb  \n",
      "9    DR-3  1939-01-07      734     lake  \n",
      "10   DR-3  1930-02-26      751     lake  \n",
      "11   DR-3         NaN      752     lake  \n",
      "12   DR-3         NaN      752     lake  \n",
      "13   DR-3         NaN      752     lake  \n",
      "14  MSK-4  1932-01-14      837     lake  \n",
      "15  MSK-4  1932-01-14      837     lake  \n",
      "16   DR-3         NaN      752      roe  \n",
      "17  MSK-4  1932-01-14      837      roe  \n",
      "18   DR-1  1932-03-22      844      roe  \n"
     ]
    }
   ],
   "source": [
    "# left_on, right_on에 전달하는 값은 여러 개라도 상관이 없음\n",
    "ps_vs = ps.merge(vs, left_on=['ident','taken','quant','reading'], right_on=['person','ident','quant','reading'])\n",
    "print(ps_vs)\n",
    "\n",
    "# 중복된 열 이름에 접미사 _x, _y가 추가되어있음\n",
    "# _x는 왼쪽 데이터프레임의 열을 의미, _y는 오른쪽 데이터프레임의 열을 의미"
   ]
  },
  {
   "cell_type": "code",
   "execution_count": null,
   "metadata": {},
   "outputs": [],
   "source": []
  }
 ],
 "metadata": {
  "kernelspec": {
   "display_name": "Python 3",
   "language": "python",
   "name": "python3"
  },
  "language_info": {
   "codemirror_mode": {
    "name": "ipython",
    "version": 3
   },
   "file_extension": ".py",
   "mimetype": "text/x-python",
   "name": "python",
   "nbconvert_exporter": "python",
   "pygments_lexer": "ipython3",
   "version": "3.8.5"
  }
 },
 "nbformat": 4,
 "nbformat_minor": 2
}
