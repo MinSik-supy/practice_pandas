{
 "cells": [
  {
   "cell_type": "markdown",
   "metadata": {},
   "source": [
    "# 제곱 함수와 n 제곱 함수 만들기"
   ]
  },
  {
   "cell_type": "code",
   "execution_count": 1,
   "metadata": {},
   "outputs": [
    {
     "name": "stdout",
     "output_type": "stream",
     "text": [
      "16\n",
      "16\n"
     ]
    }
   ],
   "source": [
    "# 제곱 함수\n",
    "def my_sq(x):\n",
    "    return x ** 2\n",
    "\n",
    "# n제곱 함수\n",
    "def my_exp(x, n):\n",
    "    return x ** n\n",
    "\n",
    "print(my_sq(4))\n",
    "\n",
    "print(my_exp(2, 4))"
   ]
  },
  {
   "cell_type": "markdown",
   "metadata": {},
   "source": [
    "# 시리즈와 apply 메서드"
   ]
  },
  {
   "cell_type": "code",
   "execution_count": 9,
   "metadata": {},
   "outputs": [
    {
     "name": "stdout",
     "output_type": "stream",
     "text": [
      "    a   b\n",
      "0  10  20\n",
      "1  20  30\n",
      "2  30  40\n",
      "\n",
      "============================================================================\n",
      "\n",
      "0    100\n",
      "1    400\n",
      "2    900\n",
      "Name: a, dtype: int64\n",
      "\n",
      "============================================================================\n",
      "\n",
      "0    100\n",
      "1    400\n",
      "2    900\n",
      "Name: a, dtype: int64\n",
      "\n",
      "============================================================================\n",
      "\n",
      "0    100\n",
      "1    400\n",
      "2    900\n",
      "Name: a, dtype: int64\n",
      "0     1000\n",
      "1     8000\n",
      "2    27000\n",
      "Name: a, dtype: int64\n"
     ]
    }
   ],
   "source": [
    "import pandas as pd\n",
    "\n",
    "df = pd.DataFrame({'a':[10,20,30], 'b':[20,30,40]})\n",
    "print(df)\n",
    "\n",
    "print(\"\")\n",
    "print(\"============================================================================\")\n",
    "print(\"\")\n",
    "\n",
    "# a열에 직접 2를 제곱\n",
    "print(df['a'] ** 2)\n",
    "\n",
    "print(\"\")\n",
    "print(\"============================================================================\")\n",
    "print(\"\")\n",
    "\n",
    "# apply메서드에 제곱 함수의 이름을 전달하여 시리즈의 모든 데이터에 제곱 함수 적용\n",
    "# 이때 apply메서드에 전달하는 함수가 1개의 인자를 받도록 구성되어 있다면 인자값 생략\n",
    "sq=df['a'].apply(my_sq)\n",
    "print(sq)\n",
    "\n",
    "print(\"\")\n",
    "print(\"============================================================================\")\n",
    "print(\"\")\n",
    "\n",
    "# 2개의 인자를 전달해야 하는 함수의 경우, apply메서드의 첫 번째 인자에는 함수이름, 두 번째 인자에는 함수의 두 번째 인자 전달\n",
    "ex = df['a'].apply(my_exp, n=2)\n",
    "print(ex)\n",
    "ex = df['a'].apply(my_exp, n=3)\n",
    "print(ex)"
   ]
  },
  {
   "cell_type": "markdown",
   "metadata": {},
   "source": [
    "# 데이터 프레임과 apply 메서드"
   ]
  },
  {
   "cell_type": "code",
   "execution_count": 19,
   "metadata": {},
   "outputs": [
    {
     "name": "stdout",
     "output_type": "stream",
     "text": [
      "0    10\n",
      "1    20\n",
      "2    30\n",
      "Name: a, dtype: int64\n",
      "0    20\n",
      "1    30\n",
      "2    40\n",
      "Name: b, dtype: int64\n",
      "a    None\n",
      "b    None\n",
      "dtype: object\n",
      "============================================================================\n",
      "a    10\n",
      "b    20\n",
      "Name: 0, dtype: int64\n",
      "a    20\n",
      "b    30\n",
      "Name: 1, dtype: int64\n",
      "a    30\n",
      "b    40\n",
      "Name: 2, dtype: int64\n",
      "0    None\n",
      "1    None\n",
      "2    None\n",
      "dtype: object\n",
      "\n",
      "============================================================================\n",
      "\n",
      "a    20.0\n",
      "b    30.0\n",
      "dtype: float64\n",
      "\n",
      "============================================================================\n",
      "\n",
      "a    20.0\n",
      "b    30.0\n",
      "dtype: float64\n",
      "\n",
      "============================================================================\n",
      "\n",
      "0    15.0\n",
      "1    25.0\n",
      "2    35.0\n",
      "dtype: float64\n"
     ]
    }
   ],
   "source": [
    "df = pd.DataFrame({'a':[10,20,30], 'b':[20,30,40]})\n",
    "\n",
    "# 1개의 값을 전달받아 출력하는 함수\n",
    "def print_me(x):\n",
    "    print(x)\n",
    "\n",
    "\n",
    "# 데이터프레임에 함수를 적용해야 할 때는 axis 인자값을 0이나 1로 지정하여 함수를 열 방향으로 적용할지 행 방향으로 적용할지 정해야 함\n",
    "print_me(df.apply(print_me, axis=0))\n",
    "print(\"============================================================================\")\n",
    "print_me(df.apply(print_me, axis=1))\n",
    "\n",
    "print(\"\")\n",
    "print(\"============================================================================\")\n",
    "print(\"\")\n",
    "\n",
    "# 3개의 인자를 입력받아 평균을 계산하는 함수\n",
    "def avg_3(x,y,z):\n",
    "    return (x + y + z) / 3\n",
    "\n",
    "# avg_3함수를 apply메서드에 전달하면 'avg_3 함수는 3개의 인자값을 필요로하는 함수인데 1개의 인자값만 입력받았다'는 오류메시지 출력됨\n",
    "# avg_3함수에 열 단위 데이터(df['a']또는 df['b'])가 전달되었고 이 값을 avg_3함수에서 1개의 인자로 인식한 것\n",
    "\n",
    "#print(df.apply(avg_3))\n",
    "\n",
    "# avg_3함수가 열 단위로 데이터를 처리할 수 있도록 수정해야 함\n",
    "def avg_3_apply(col):\n",
    "    x = col[0]\n",
    "    y = col[1]\n",
    "    z = col[2]\n",
    "    return (x + y + z) / 3\n",
    "\n",
    "print(df.apply(avg_3_apply))\n",
    "\n",
    "print(\"\")\n",
    "print(\"============================================================================\")\n",
    "print(\"\")\n",
    "\n",
    "# 데이터프레임의 행 개수를 모를 때에는 for문을 이용\n",
    "def avg_3_apply(col):\n",
    "    sum = 0\n",
    "    for item in col:\n",
    "        sum += item\n",
    "    return sum / df.shape[0]\n",
    "\n",
    "print(df.apply(avg_3_apply))\n",
    "\n",
    "print(\"\")\n",
    "print(\"============================================================================\")\n",
    "print(\"\")\n",
    "\n",
    "# 행 방향으로 함수를 적용\n",
    "def avg_2_apply(col):\n",
    "    sum = 0\n",
    "    for item in col:\n",
    "        sum += item\n",
    "    return sum / df.shape[1]\n",
    "\n",
    "print(df.apply(avg_2_apply, axis=1))"
   ]
  },
  {
   "cell_type": "markdown",
   "metadata": {},
   "source": [
    "# 데이터프레임의 누락값을 처리한 다음 apply 메서드 사용하기 - 열 방향"
   ]
  },
  {
   "cell_type": "code",
   "execution_count": 22,
   "metadata": {},
   "outputs": [
    {
     "name": "stdout",
     "output_type": "stream",
     "text": [
      "<class 'pandas.core.frame.DataFrame'>\n",
      "RangeIndex: 891 entries, 0 to 890\n",
      "Data columns (total 15 columns):\n",
      " #   Column       Non-Null Count  Dtype   \n",
      "---  ------       --------------  -----   \n",
      " 0   survived     891 non-null    int64   \n",
      " 1   pclass       891 non-null    int64   \n",
      " 2   sex          891 non-null    object  \n",
      " 3   age          714 non-null    float64 \n",
      " 4   sibsp        891 non-null    int64   \n",
      " 5   parch        891 non-null    int64   \n",
      " 6   fare         891 non-null    float64 \n",
      " 7   embarked     889 non-null    object  \n",
      " 8   class        891 non-null    category\n",
      " 9   who          891 non-null    object  \n",
      " 10  adult_male   891 non-null    bool    \n",
      " 11  deck         203 non-null    category\n",
      " 12  embark_town  889 non-null    object  \n",
      " 13  alive        891 non-null    object  \n",
      " 14  alone        891 non-null    bool    \n",
      "dtypes: bool(2), category(2), float64(2), int64(4), object(5)\n",
      "memory usage: 80.6+ KB\n",
      "None\n"
     ]
    }
   ],
   "source": [
    "import seaborn as sns\n",
    "\n",
    "# seaborn 라이브러리의 titanic데이터 집합 사용\n",
    "titanic = sns.load_dataset(\"titanic\")\n",
    "print(titanic.info())\n"
   ]
  },
  {
   "cell_type": "code",
   "execution_count": 23,
   "metadata": {},
   "outputs": [
    {
     "name": "stdout",
     "output_type": "stream",
     "text": [
      "survived         0\n",
      "pclass           0\n",
      "sex              0\n",
      "age            177\n",
      "sibsp            0\n",
      "parch            0\n",
      "fare             0\n",
      "embarked         2\n",
      "class            0\n",
      "who              0\n",
      "adult_male       0\n",
      "deck           688\n",
      "embark_town      2\n",
      "alive            0\n",
      "alone            0\n",
      "dtype: int64\n"
     ]
    }
   ],
   "source": [
    "import numpy as np\n",
    "\n",
    "# 누락값의 개수를 반환하는 count_missing함수\n",
    "def count_missing(vec):\n",
    "    null_vec = pd.isnull(vec)\n",
    "    null_count = np.sum(null_vec)\n",
    "    return null_count\n",
    "\n",
    "cmis_col = titanic.apply(count_missing)\n",
    "print(cmis_col)"
   ]
  },
  {
   "cell_type": "code",
   "execution_count": 26,
   "metadata": {},
   "outputs": [
    {
     "name": "stdout",
     "output_type": "stream",
     "text": [
      "survived       0.000000\n",
      "pclass         0.000000\n",
      "sex            0.000000\n",
      "age            0.198653\n",
      "sibsp          0.000000\n",
      "parch          0.000000\n",
      "fare           0.000000\n",
      "embarked       0.002245\n",
      "class          0.000000\n",
      "who            0.000000\n",
      "adult_male     0.000000\n",
      "deck           0.772166\n",
      "embark_town    0.002245\n",
      "alive          0.000000\n",
      "alone          0.000000\n",
      "dtype: float64\n",
      "\n",
      "============================================================================\n",
      "\n",
      "survived       1.000000\n",
      "pclass         1.000000\n",
      "sex            1.000000\n",
      "age            0.801347\n",
      "sibsp          1.000000\n",
      "parch          1.000000\n",
      "fare           1.000000\n",
      "embarked       0.997755\n",
      "class          1.000000\n",
      "who            1.000000\n",
      "adult_male     1.000000\n",
      "deck           0.227834\n",
      "embark_town    0.997755\n",
      "alive          1.000000\n",
      "alone          1.000000\n",
      "dtype: float64\n"
     ]
    }
   ],
   "source": [
    "# 누락값의 비율을 계산하는 prop_missing함수\n",
    "def prop_missing(vec):\n",
    "    num = count_missing(vec)\n",
    "    dem = vec.size\n",
    "    return num / dem\n",
    "\n",
    "pmis_col = titanic.apply(prop_missing)\n",
    "print(pmis_col)\n",
    "\n",
    "print(\"\")\n",
    "print(\"============================================================================\")\n",
    "print(\"\")\n",
    "\n",
    "# 누락값이 아닌 데이터의 비율을 구하는 함수\n",
    "def prop_complete(vec):\n",
    "    return 1 - prop_missing(vec)\n",
    "\n",
    "pcom_col = titanic.apply(prop_complete)\n",
    "print(pcom_col)"
   ]
  },
  {
   "cell_type": "markdown",
   "metadata": {},
   "source": [
    "# 데이터프레임의 누락값을 처리한 다음 apply 메서드 사용하기 - 행 방뱡"
   ]
  },
  {
   "cell_type": "code",
   "execution_count": 28,
   "metadata": {},
   "outputs": [
    {
     "name": "stdout",
     "output_type": "stream",
     "text": [
      "0    1\n",
      "1    0\n",
      "2    1\n",
      "3    0\n",
      "4    1\n",
      "dtype: int64\n",
      "\n",
      "============================================================================\n",
      "\n",
      "0    0.066667\n",
      "1    0.000000\n",
      "2    0.066667\n",
      "3    0.000000\n",
      "4    0.066667\n",
      "dtype: float64\n",
      "\n",
      "============================================================================\n",
      "\n",
      "0    0.933333\n",
      "1    1.000000\n",
      "2    0.933333\n",
      "3    1.000000\n",
      "4    0.933333\n",
      "dtype: float64\n"
     ]
    }
   ],
   "source": [
    "cmis_row = titanic.apply(count_missing, axis=1)\n",
    "pmis_row = titanic.apply(prop_missing, axis=1)\n",
    "pcom_row = titanic.apply(prop_complete, axis=1)\n",
    "\n",
    "print(cmis_row.head())\n",
    "\n",
    "print(\"\")\n",
    "print(\"============================================================================\")\n",
    "print(\"\")\n",
    "\n",
    "print(pmis_row.head())\n",
    "\n",
    "print(\"\")\n",
    "print(\"============================================================================\")\n",
    "print(\"\")\n",
    "\n",
    "print(pcom_row.head())"
   ]
  },
  {
   "cell_type": "code",
   "execution_count": 29,
   "metadata": {
    "scrolled": true
   },
   "outputs": [
    {
     "name": "stdout",
     "output_type": "stream",
     "text": [
      "   survived  pclass     sex   age  sibsp  parch     fare  ...    who adult_male deck  embark_town alive  alone num_missing\n",
      "0         0       3    male  22.0      1      0   7.2500  ...    man       True  NaN  Southampton    no  False           1\n",
      "1         1       1  female  38.0      1      0  71.2833  ...  woman      False    C    Cherbourg   yes  False           0\n",
      "2         1       3  female  26.0      0      0   7.9250  ...  woman      False  NaN  Southampton   yes   True           1\n",
      "3         1       1  female  35.0      1      0  53.1000  ...  woman      False    C  Southampton   yes  False           0\n",
      "4         0       3    male  35.0      0      0   8.0500  ...    man       True  NaN  Southampton    no   True           1\n",
      "\n",
      "[5 rows x 16 columns]\n"
     ]
    }
   ],
   "source": [
    "# 누락값의 개수를 구하여 titanic 데이터프레임에 추가\n",
    "titanic['num_missing'] = titanic.apply(count_missing, axis=1)\n",
    "print(titanic.head())"
   ]
  },
  {
   "cell_type": "code",
   "execution_count": 30,
   "metadata": {},
   "outputs": [
    {
     "name": "stdout",
     "output_type": "stream",
     "text": [
      "     survived  pclass     sex  age  sibsp  parch  ...  adult_male deck  embark_town alive  alone num_missing\n",
      "533         1       3  female  NaN      0      2  ...       False  NaN    Cherbourg   yes  False           2\n",
      "47          1       3  female  NaN      0      0  ...       False  NaN   Queenstown   yes   True           2\n",
      "464         0       3    male  NaN      0      0  ...        True  NaN  Southampton    no   True           2\n",
      "82          1       3  female  NaN      0      0  ...       False  NaN   Queenstown   yes   True           2\n",
      "502         0       3  female  NaN      0      0  ...       False  NaN   Queenstown    no   True           2\n",
      "454         0       3    male  NaN      0      0  ...        True  NaN  Southampton    no   True           2\n",
      "181         0       2    male  NaN      0      0  ...        True  NaN    Cherbourg    no   True           2\n",
      "109         1       3  female  NaN      1      0  ...       False  NaN   Queenstown   yes  False           2\n",
      "367         1       3  female  NaN      0      0  ...       False  NaN    Cherbourg   yes   True           2\n",
      "301         1       3    male  NaN      2      0  ...        True  NaN   Queenstown   yes  False           2\n",
      "\n",
      "[10 rows x 16 columns]\n"
     ]
    }
   ],
   "source": [
    "# 누락값이 2개 이상인 데이터 추출\n",
    "print(titanic.loc[titanic.num_missing > 1, :].sample(10))"
   ]
  },
  {
   "cell_type": "code",
   "execution_count": null,
   "metadata": {},
   "outputs": [],
   "source": []
  }
 ],
 "metadata": {
  "kernelspec": {
   "display_name": "Python 3",
   "language": "python",
   "name": "python3"
  },
  "language_info": {
   "codemirror_mode": {
    "name": "ipython",
    "version": 3
   },
   "file_extension": ".py",
   "mimetype": "text/x-python",
   "name": "python",
   "nbconvert_exporter": "python",
   "pygments_lexer": "ipython3",
   "version": "3.8.5"
  }
 },
 "nbformat": 4,
 "nbformat_minor": 1
}
