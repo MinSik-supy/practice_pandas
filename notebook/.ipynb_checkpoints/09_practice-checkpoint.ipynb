{
 "cells": [
  {
   "cell_type": "markdown",
   "metadata": {},
   "source": [
    "# 문자열 추출하기"
   ]
  },
  {
   "cell_type": "code",
   "execution_count": 6,
   "metadata": {},
   "outputs": [
    {
     "name": "stdout",
     "output_type": "stream",
     "text": [
      "g\n",
      "a\n",
      "gra\n",
      "h\n",
      "a\n",
      "a\n"
     ]
    }
   ],
   "source": [
    "word = 'grail'\n",
    "sent = 'a scratch'\n",
    "\n",
    "print(word[0])\n",
    "print(sent[0])\n",
    "\n",
    "print(word[0:3])\n",
    "\n",
    "print(sent[-1])\n",
    "\n",
    "print(sent[-9:-8])\n",
    "\n",
    "print(sent[0:-8])"
   ]
  },
  {
   "cell_type": "markdown",
   "metadata": {},
   "source": [
    "# 전체 문자열 추출하기"
   ]
  },
  {
   "cell_type": "code",
   "execution_count": 8,
   "metadata": {},
   "outputs": [
    {
     "name": "stdout",
     "output_type": "stream",
     "text": [
      "scratc\n",
      "scratc\n",
      "9\n",
      "scratch\n"
     ]
    }
   ],
   "source": [
    "# 전체 문자열을 추출할 때 음수를 사용하면 안됨\n",
    "# 인덱스 슬라이싱의 오른쪽 범위로 지정한 값은 문자열 추출 범위에서 제외되기 때문\n",
    "print(sent[2:-1])\n",
    "print(sent[-7:-1])\n",
    "\n",
    "# len 메서드를 사용하여 문자의 길이를 오른쪽 범위로 지정하면 됨\n",
    "s_len = len(sent)\n",
    "print(s_len)\n",
    "\n",
    "print(sent[2:s_len])"
   ]
  },
  {
   "cell_type": "markdown",
   "metadata": {},
   "source": [
    "# 왼쪽이나 오른쪽 범위를 지정하지 않고 문자열 추출하기"
   ]
  },
  {
   "cell_type": "code",
   "execution_count": 12,
   "metadata": {
    "scrolled": true
   },
   "outputs": [
    {
     "name": "stdout",
     "output_type": "stream",
     "text": [
      "gra\n",
      "gra\n",
      "scratch\n",
      "scratch\n",
      "a scratch\n",
      "asrth\n"
     ]
    }
   ],
   "source": [
    "# 왼쪽 범위를 비우고 문자열을 추출하면 오른쪽과 같이 됨\n",
    "print(word[0:3])\n",
    "print(word[:3])\n",
    "\n",
    "# 오른쪽 범위를 비우면 문자열의 마지막 위치까지 문자열을 추출함\n",
    "print(sent[2:len(sent)])\n",
    "print(sent[2:])\n",
    "\n",
    "# 양쪽을 모두 비우면 전체 문자열을 추출함\n",
    "print(sent[ : ])\n",
    "\n",
    "# 문자열을 일정한 간격으로 건너뛰며 추출해야 하는 경우\n",
    "# 콜론(:)을 하나 더 추가하여 추출 간격을 지정\n",
    "print(sent[::2]) # 1칸씩 건너뛰며 추출"
   ]
  },
  {
   "cell_type": "markdown",
   "metadata": {},
   "source": [
    "# 파이썬 문자열 메서드"
   ]
  },
  {
   "cell_type": "code",
   "execution_count": null,
   "metadata": {},
   "outputs": [],
   "source": [
    "# capitalize  -- 첫 문자를 대문자로 변환합니다.\n",
    "\"black Knight\".capitalize()\n",
    "# count       -- 문자열의 개수를 반환합니다.\n",
    "\"It's just a flesh wound!\".count('u')\n",
    "# startswith  -- 문자열이 특정 문자로 시작하면 참이 될니다.\n",
    "\"Halt! Who goes there?\".startswith('Halt')\n",
    "# endswith    -- 문자열이 특정 문자로끝나면 침이 됩니다.\n",
    "\"coconut\".endswith('nut')\n",
    "# find        -- 찾을 문자열의 첫 번째 인댁스를 반환합니다. 실패 시 - 1 을 반환합니다.\n",
    "\"lt's just a flesh wound!\".find('u')\n",
    "# index find  -- 메서드와 같은 역할을 수행하지만 실패 시 ValueError를 반환합니다.\n",
    "# \"It's just a flesh wound!\".index('scratch')\n",
    "# isalpha     -- 모든 문자가 알파멧이면 침입니다.\n",
    "\"old woman\".isalpha()\n",
    "# isdecimal   -- 모든 문자가 숫자면 참입니다.\n",
    "\"37\".isdecimal()\n",
    "# isalnum     -- 모든 문자가 알파뱃이거나 숫자연 침입니다.\n",
    "\"1'm 37\".isalnum()\n",
    "# lower       -- 모든 문자를 소문자로 변환합니다.\n",
    "\"Black Knight\".lower()\n",
    "# upper       -- 모든 문자를 대문자로 변환합니다.\n",
    "\"Black Knight\".upper()\n",
    "# replace     -- 문자열의 문자를 다른 문자로 교체합니다.\n",
    "\"flesh wound!\".replace('flesh wound','scratch')\n",
    "# strip       -- 문자열의 맨 앞과 맨 뒤에 있는 빈 칸을 제거합니다.\n",
    "\" l'm not dead. \".strip()\n",
    "# split       -- 구분자를 지정하여 문자열을 나누고， 나눈 값들의 리스트를 반환합니다\n",
    "\"N1! N1! N1! N1!\".split(sep=' ')\n",
    "# partítlon   -- split 메서드와 비슷한 역할을 수행하지만 구분자도 반환합니다.\n",
    "\"3,4\".partition('j')\n",
    "# center      -- 지정한 너비로 문자열을 늘이고 문자열을 가운데 정렬합니다.\n",
    "\"nine\".center(10)\n",
    "# zfill       -- 문자열의 빈 칸을 '0' 으로 채웁니다.\n",
    "\"9\".zfill(5)"
   ]
  },
  {
   "cell_type": "markdown",
   "metadata": {},
   "source": [
    "# join, splitlines, replace 메서드 실습하기\n"
   ]
  },
  {
   "cell_type": "code",
   "execution_count": 25,
   "metadata": {},
   "outputs": [
    {
     "name": "stdout",
     "output_type": "stream",
     "text": [
      "40° 46' 52.837\" N 73° 58' 26.302\" W\n"
     ]
    }
   ],
   "source": [
    "# join 메서드\n",
    "# 문자열을 연결하여 새로운 문자열을 반환하는 메서드\n",
    "# °는 alt 누른 상태로  0,1,7,6 차례로 입력 후 alt를 떼면 입력됨\n",
    "d1 = '40°'\n",
    "m1 = \"46'\"\n",
    "s1 = '52.837\"'\n",
    "u1 = 'N'\n",
    "\n",
    "d2 = '73°'\n",
    "m2 = \"58'\"\n",
    "s2 = '26.302\"'\n",
    "u2 = 'W'\n",
    "\n",
    "coords = ' '.join([d1, m1, s1, u1, d2, m2, s2, u2])\n",
    "print(coords)"
   ]
  },
  {
   "cell_type": "code",
   "execution_count": 28,
   "metadata": {},
   "outputs": [
    {
     "name": "stdout",
     "output_type": "stream",
     "text": [
      "Guard: What? Ridden on a horse?\n",
      "King Arthur: Yes!\n",
      "Guard: You're using coconuts!\n",
      "King Arthur: What?\n",
      "Guard: You've got ... coconut[s] and you're bangin' 'em together.\n",
      "\n",
      "['Guard: What? Ridden on a horse?', 'King Arthur: Yes!', \"Guard: You're using coconuts!\", 'King Arthur: What?', \"Guard: You've got ... coconut[s] and you're bangin' 'em together.\"]\n",
      "['Guard: What? Ridden on a horse?', \"Guard: You're using coconuts!\", \"Guard: You've got ... coconut[s] and you're bangin' 'em together.\"]\n"
     ]
    }
   ],
   "source": [
    "# splitlines 메서드\n",
    "# 여러 행을 가진 문자열을 분리한 다음 리스트'로 반환\n",
    "multi_str = \"\"\"Guard: What? Ridden on a horse?\n",
    "King Arthur: Yes!\n",
    "Guard: You're using coconuts!\n",
    "King Arthur: What?\n",
    "Guard: You've got ... coconut[s] and you're bangin' 'em together.\n",
    "\"\"\"\n",
    "print(multi_str)\n",
    "\n",
    "multi_str_split = multi_str.splitlines()\n",
    "print(multi_str_split)\n",
    "\n",
    "\n",
    "# 인덱스 슬라이싱을 응용하여 특정 문자열만 가져올 수도 있음\n",
    "guard = multi_str_split[::2]\n",
    "print(guard)"
   ]
  },
  {
   "cell_type": "code",
   "execution_count": 29,
   "metadata": {},
   "outputs": [
    {
     "name": "stdout",
     "output_type": "stream",
     "text": [
      "['What? Ridden on a horse?', \"You're using coconuts!\", \"You've got ... coconut[s] and you're bangin' 'em together.\"]\n"
     ]
    }
   ],
   "source": [
    "# replace 메서드\n",
    "# 문자열을 치환해줌\n",
    "guard = multi_str.replace(\"Guard: \",\"\").splitlines()[::2]\n",
    "print(guard)"
   ]
  },
  {
   "cell_type": "markdown",
   "metadata": {},
   "source": [
    "# 문자열 포매팅 실습하기"
   ]
  },
  {
   "cell_type": "code",
   "execution_count": 32,
   "metadata": {},
   "outputs": [
    {
     "name": "stdout",
     "output_type": "stream",
     "text": [
      "It's just a flesh wound!\n",
      "It's just a scratch!\n",
      "Black Knight: 'Tis but a scratch.\n",
      "King Arthur: A scratch? Your arm's off!\n",
      "\n",
      "Hayden Planetarium Coordinates: 40,7815°N, 73.9733°W\n"
     ]
    }
   ],
   "source": [
    "# 문자열 포매팅이란 출력할 문자열의 형식을 지정하거나 변수를 조합하여 출력하는 방법을 말함.\n",
    "\n",
    "# 단어를 삽입할 위치를 {}로 지정하고 format 메서드에 원하는 단어를 전달하여\n",
    "# {}의 위치에 전달한 단어를 삽입해 출력\n",
    "# 이 때 {}를 플레이스 홀더라고 부름\n",
    "var = 'flesh wound'\n",
    "s = \"It's just a {}!\"\n",
    "print(s.format(var))\n",
    "print(s.format('scratch'))\n",
    "\n",
    "# format 메서드에 여러 단어를 전달하려면 인덱스 개념을 응용\n",
    "s = \"\"\"Black Knight: 'Tis but a {0}.\n",
    "King Arthur: A {0}? Your arm's off!\n",
    "\"\"\"\n",
    "print(s.format('scratch'))\n",
    "\n",
    "# 플레이스 홀더에 변수를 지정하면 format 메서드에 전달하는 문자열도 변수에 담아 전달해야 함\n",
    "s = 'Hayden Planetarium Coordinates: {lat}, {lon}'\n",
    "print(s.format(lat='40,7815°N', lon='73.9733°W'))"
   ]
  },
  {
   "cell_type": "markdown",
   "metadata": {},
   "source": [
    "# 수치값 포매팅 실습"
   ]
  },
  {
   "cell_type": "code",
   "execution_count": 40,
   "metadata": {},
   "outputs": [
    {
     "name": "stdout",
     "output_type": "stream",
     "text": [
      "Some digits of pi: 3.14159265359\n",
      "In 2005, Lu Chao of China recited 67,890 digits of pi\n",
      "I remember 0.0001031 or 0.0103% of what Lu Chao recited\n",
      "My ID number is 00042\n"
     ]
    }
   ],
   "source": [
    "print('Some digits of pi: {}'.format(3.14159265359))\n",
    "\n",
    "# 플레이스 홀더에 :,를 넣으면 쉼표를 넣어 숫자를 표현할 수도 있음\n",
    "print(\"In 2005, Lu Chao of China recited {:,} digits of pi\".format(67890))\n",
    "\n",
    "# 소수 표현\n",
    "# 0은 format 메서드에서 전달받을 값의 인덱스, .4는 소수점 이하의 숫자를 4개까지 출력함을 의미\n",
    "print(\"I remember {0:.4} or {0:.4%} of what Lu Chao recited\".format(7/67890))\n",
    "\n",
    "# 5자리의 숫자로 표현되야 할 경우\n",
    "# 값을 5자리의 수로 표현하되 빈칸을 0으로 채워 출력\n",
    "print(\"My ID number is {0:05d}\".format(42))"
   ]
  },
  {
   "cell_type": "markdown",
   "metadata": {},
   "source": [
    "# % 연산자로 포매팅하기"
   ]
  },
  {
   "cell_type": "code",
   "execution_count": 45,
   "metadata": {},
   "outputs": [
    {
     "name": "stdout",
     "output_type": "stream",
     "text": [
      "I only know 7 digits of pi\n",
      "I only know 7aa digits of pi\n",
      "Some digits of e: 2.72\n"
     ]
    }
   ],
   "source": [
    "# 삽입할 값이 10진수인 경우\n",
    "s = 'I only know %d digits of pi' % 7\n",
    "print(s)\n",
    "\n",
    "# 삽입할 값이 문자열인 경우\n",
    "\n",
    "print('I only know %s digits of pi' % '7aa')\n",
    "\n",
    "print('Some digits of %(cont)s: %(value).2f' % {'cont': 'e', 'value': 2.718})"
   ]
  },
  {
   "cell_type": "markdown",
   "metadata": {},
   "source": [
    "# f-strings로 포매팅 사용하기"
   ]
  },
  {
   "cell_type": "code",
   "execution_count": 48,
   "metadata": {},
   "outputs": [
    {
     "name": "stdout",
     "output_type": "stream",
     "text": [
      "It's just a flesh wound!\n",
      "Hayden Planetarium Coordinates: 40.7815°N, 73.9733°W\n"
     ]
    }
   ],
   "source": [
    "# 3.6 버전에서 새롭게 도입된 포매팅\n",
    "var = 'flesh wound'\n",
    "s = f\"It's just a {var}!\"\n",
    "print(s)\n",
    "\n",
    "lat='40.7815°N'\n",
    "lon='73.9733°W'\n",
    "s = f'Hayden Planetarium Coordinates: {lat}, {lon}'\n",
    "print(s)"
   ]
  },
  {
   "cell_type": "markdown",
   "metadata": {},
   "source": [
    "# 기본 정규식 문법"
   ]
  },
  {
   "cell_type": "code",
   "execution_count": null,
   "metadata": {},
   "outputs": [],
   "source": [
    ".      -- 문자(a) 앞에 문자 1 개가 있는 패턴을 찾습니다.\n",
    "^      -- 문자열의 처음부터 일치하는 패턴을 찾습니다.\n",
    "$      -- 문자열의 끝 부분부터 일치하는 패턴을 찾습니다.\n",
    "*      -- n 이후 숫자(\\d)가 0개 이상인 패턴을 찾습니다\n",
    "+      -- n 이후 숫자(\\d)가 1 개 이상인 패턴을 찾습니다\n",
    "?      -- ?의 앞의 문자(e)가 있거나 없는 패턴을 찾습니다\n",
    "{m}    -- n 이후 숫자(\\ d)가 2개 ({2})인 패턴을 찾습니다.\n",
    "{m,n}  -- n 이후 숫자(\\ d)가 2개 ({2}) 이상, 4개({4}) 이하인 패턴을 찾습니다.\n",
    "\\      -- * , ?, +와 같은 특수 문자를 검색할 때 이스케이프 문자(\\)를 사용합니다.\n",
    "[]     -- c, f, h 중 1 개를 포함하고 나머지 문자열이 all 인 패턴을 찾습니다.\n",
    "|      -- apple 이나 application 중 하나만 있는 패턴을 찾습니다(OR 연산).\n",
    "()     -- ( )에 지정한 패턴을 찾을 때 사용합니다."
   ]
  },
  {
   "cell_type": "markdown",
   "metadata": {},
   "source": [
    "# 정규식 특수 문자"
   ]
  },
  {
   "cell_type": "markdown",
   "metadata": {},
   "source": [
    "\\d  -- 숫자 1개를 의미합니다([0-9] 와 동일)\n",
    "\\D  -- 숫자 이외의 문자 1개를 의 미합니다([^0-9]와 동일) .\n",
    "\\s  -- 공백이나 탭 1개를 의미합니다.\n",
    "\\S  -- 공백 문자 이외의 문자 1개를 의미합니다.\n",
    "\\w  -- 알파엣 1개를 의미합니다.\n",
    "\\W  -- 알파엣 이외의 문자 1개를 의미합니다(한글, 중국어 등)"
   ]
  },
  {
   "cell_type": "markdown",
   "metadata": {},
   "source": [
    "# 정규식 메서드"
   ]
  },
  {
   "cell_type": "code",
   "execution_count": 67,
   "metadata": {},
   "outputs": [
    {
     "name": "stdout",
     "output_type": "stream",
     "text": [
      "None\n",
      "False\n",
      "['I', 'like', 'apple,', 'I', 'like', 'to', 'make', 'application']\n",
      "[]\n",
      "<callable_iterator object at 0x000001CF3424B160>\n",
      "I-like-apple,-I-like-to-make-application\n"
     ]
    }
   ],
   "source": [
    "import re\n",
    "# 정규식 패턴을 사용하지 않아도 메서드를 호출하는 방법으로 원하는 패턴의 문자열을 찾을 수 있음\n",
    "\n",
    "test = \"I like apple, I like to make application\"\n",
    "\n",
    "# search     -- 첫 번째로 찾은 패턴의 양 끝 인텍스를 반환\n",
    "m = re.search('[0-9]{4}', test)\n",
    "#print(m.group())\n",
    "# match      -- 문자열의 처음부터 검색하여 찾아낸 패턴의 양 끝 인덱스를 반환\n",
    "m = re.match('[0-9]{4}', test)\n",
    "print(m)\n",
    "# fullmatch  -- 전체 문자열이 일치하는지 검사\n",
    "m = re.fullmatch('\\d+\\s\\d+\\s\\d+\\S\\d+', test)\n",
    "print(bool(m))\n",
    "# split      -- 지정한 패턴으로 잘라낸 문자열을 리스트로 반환\n",
    "m=re.split('\\s', test)\n",
    "print(m)\n",
    "# findall    -- 지정한 패턴을 찾아 리스트로 반환\n",
    "m = re.findall('[0-9]{4}', test)\n",
    "print(m)\n",
    "# finditer   -- findall 메서드와 기능이 동일하지만 iterator를 반환\n",
    "m = re.finditer('[0-9]{4}', test)\n",
    "print(m)\n",
    "for match in m:\n",
    "    print(match)\n",
    "# sub        -- 첫 번째 인자로 전달한 값(패턴)을 두 번째 인자로 전달한 값(easyspub)으로 교체\n",
    "print(re.sub('\\s', '-', test))"
   ]
  },
  {
   "cell_type": "markdown",
   "metadata": {},
   "source": [
    "# 정규식으로 전화번호 패턴 찾기"
   ]
  },
  {
   "cell_type": "code",
   "execution_count": 76,
   "metadata": {},
   "outputs": [
    {
     "name": "stdout",
     "output_type": "stream",
     "text": [
      "<re.Match object; span=(0, 10), match='1234567890'>\n",
      "True\n",
      "match\n",
      "0\n",
      "10\n",
      "(0, 10)\n",
      "1234567890\n",
      "None\n",
      "no match\n",
      "<re.Match object; span=(0, 12), match='123 456 7890'>\n",
      "<re.Match object; span=(0, 14), match='(123) 456-7890'>\n",
      "<re.Match object; span=(0, 17), match='+1 (123) 456-7890'>\n"
     ]
    }
   ],
   "source": [
    "tele_num = '1234567890'\n",
    "# pattern 인자에는 10개의 숫자를 의미하는 10개의 \\d를,\n",
    "# string에는 테스트용 문자열인 tele_num을 전달\n",
    "m = re.match(pattern='\\d\\d\\d\\d\\d\\d\\d\\d\\d\\d', string=tele_num)\n",
    "print(m)\n",
    "\n",
    "# bool메서드에 m을 전달하면 True나 False를 얻을 수 있음\n",
    "print(bool(m))\n",
    "\n",
    "if m:\n",
    "    print('match')\n",
    "else:\n",
    "    print('no match')\n",
    "\n",
    "# start와 end메서드는 첫 번째와 마지막 인덱스를 반환\n",
    "# span메서드는 찾은 패턴의 첫 번째와 마지막 인덱스를 한 번에 반환\n",
    "# group 메서드는 찾아낸 패턴을 반환\n",
    "print(m.start())\n",
    "print(m.end())\n",
    "print(m.span())\n",
    "print(m.group())\n",
    "\n",
    "tele_num_spaces = '123 456 7890'\n",
    "m = re.match(pattern='\\d{10}', string=tele_num_spaces)\n",
    "print(m)\n",
    "\n",
    "if m:\n",
    "    print('match')\n",
    "else:\n",
    "    print('no match')\n",
    "\n",
    "p = '\\d{3}\\s?\\d{3}\\s?\\d{4}'\n",
    "m = re.match(pattern=p, string=tele_num_spaces)\n",
    "print(m)\n",
    "\n",
    "# 지역코드는 소괄호로 감싸고 나머지 번호는 반각 기호로 구분\n",
    "tele_num_space_paren_dash = '(123) 456-7890'\n",
    "p = '\\(?\\d{3}\\)?\\s?\\d{3}\\s?-?\\d{4}'\n",
    "m = re.match(pattern=p, string=tele_num_space_paren_dash)\n",
    "print(m)\n",
    "\n",
    "# 국가 코드까지 있는 전화번호\n",
    "cnty_tele_num_space_paren_dash = '+1 (123) 456-7890'\n",
    "p = '\\+?1\\s?\\(?\\d{3}\\)?\\s?\\d{3}\\s?-?\\d{4}'\n",
    "m = re.match(pattern=p, string=cnty_tele_num_space_paren_dash)\n",
    "print(m)"
   ]
  },
  {
   "cell_type": "markdown",
   "metadata": {},
   "source": [
    "# compile 메서드로 정규식 메서드 사용하기"
   ]
  },
  {
   "cell_type": "code",
   "execution_count": 81,
   "metadata": {},
   "outputs": [
    {
     "name": "stdout",
     "output_type": "stream",
     "text": [
      "<re.Match object; span=(0, 10), match='1234567890'>\n"
     ]
    }
   ],
   "source": [
    "# 패턴을 반복해서 사용하려면 compile 메서드로 패턴을 컴파일한 다음 변수에 저장하여 사용\n",
    "p = re.compile('\\d{10}')\n",
    "s = '1234567890 0987654321'\n",
    "m = p.match(s)\n",
    "print(m)"
   ]
  },
  {
   "cell_type": "code",
   "execution_count": null,
   "metadata": {},
   "outputs": [],
   "source": []
  }
 ],
 "metadata": {
  "kernelspec": {
   "display_name": "Python 3",
   "language": "python",
   "name": "python3"
  },
  "language_info": {
   "codemirror_mode": {
    "name": "ipython",
    "version": 3
   },
   "file_extension": ".py",
   "mimetype": "text/x-python",
   "name": "python",
   "nbconvert_exporter": "python",
   "pygments_lexer": "ipython3",
   "version": "3.8.5"
  }
 },
 "nbformat": 4,
 "nbformat_minor": 1
}
